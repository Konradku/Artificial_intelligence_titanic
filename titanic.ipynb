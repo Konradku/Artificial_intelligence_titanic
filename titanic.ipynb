{
 "cells": [
  {
   "cell_type": "markdown",
   "id": "8530764e",
   "metadata": {},
   "source": [
    "<h3>Import data</h3>"
   ]
  },
  {
   "cell_type": "code",
   "execution_count": 1,
   "id": "7c5d06b1",
   "metadata": {},
   "outputs": [],
   "source": [
    "# Import basic libraries\n",
    "import os\n",
    "import pandas as pd\n",
    "import numpy as np\n",
    "\n",
    "# Import data\n",
    "data_path = ['data']\n",
    "filepath_train = os.sep.join(data_path + ['train.csv'])\n",
    "filepath_test = os.sep.join(data_path + ['test.csv'])\n",
    "filepath_y_test = os.sep.join(data_path + ['gender_submission.csv'])\n",
    "train = pd.read_csv(filepath_train)\n",
    "test = pd.read_csv(filepath_test)\n",
    "y_test = pd.read_csv(filepath_y_test)"
   ]
  },
  {
   "cell_type": "markdown",
   "id": "77af2cd6",
   "metadata": {},
   "source": [
    "<h3>Initial data exploration</h3>"
   ]
  },
  {
   "cell_type": "code",
   "execution_count": 2,
   "id": "ab3c5ad6",
   "metadata": {},
   "outputs": [
    {
     "data": {
      "text/html": [
       "<div>\n",
       "<style scoped>\n",
       "    .dataframe tbody tr th:only-of-type {\n",
       "        vertical-align: middle;\n",
       "    }\n",
       "\n",
       "    .dataframe tbody tr th {\n",
       "        vertical-align: top;\n",
       "    }\n",
       "\n",
       "    .dataframe thead th {\n",
       "        text-align: right;\n",
       "    }\n",
       "</style>\n",
       "<table border=\"1\" class=\"dataframe\">\n",
       "  <thead>\n",
       "    <tr style=\"text-align: right;\">\n",
       "      <th></th>\n",
       "      <th>PassengerId</th>\n",
       "      <th>Survived</th>\n",
       "      <th>Pclass</th>\n",
       "      <th>Name</th>\n",
       "      <th>Sex</th>\n",
       "      <th>Age</th>\n",
       "      <th>SibSp</th>\n",
       "      <th>Parch</th>\n",
       "      <th>Ticket</th>\n",
       "      <th>Fare</th>\n",
       "      <th>Cabin</th>\n",
       "      <th>Embarked</th>\n",
       "    </tr>\n",
       "  </thead>\n",
       "  <tbody>\n",
       "    <tr>\n",
       "      <th>0</th>\n",
       "      <td>1</td>\n",
       "      <td>0</td>\n",
       "      <td>3</td>\n",
       "      <td>Braund, Mr. Owen Harris</td>\n",
       "      <td>male</td>\n",
       "      <td>22.0</td>\n",
       "      <td>1</td>\n",
       "      <td>0</td>\n",
       "      <td>A/5 21171</td>\n",
       "      <td>7.2500</td>\n",
       "      <td>NaN</td>\n",
       "      <td>S</td>\n",
       "    </tr>\n",
       "    <tr>\n",
       "      <th>1</th>\n",
       "      <td>2</td>\n",
       "      <td>1</td>\n",
       "      <td>1</td>\n",
       "      <td>Cumings, Mrs. John Bradley (Florence Briggs Th...</td>\n",
       "      <td>female</td>\n",
       "      <td>38.0</td>\n",
       "      <td>1</td>\n",
       "      <td>0</td>\n",
       "      <td>PC 17599</td>\n",
       "      <td>71.2833</td>\n",
       "      <td>C85</td>\n",
       "      <td>C</td>\n",
       "    </tr>\n",
       "    <tr>\n",
       "      <th>2</th>\n",
       "      <td>3</td>\n",
       "      <td>1</td>\n",
       "      <td>3</td>\n",
       "      <td>Heikkinen, Miss. Laina</td>\n",
       "      <td>female</td>\n",
       "      <td>26.0</td>\n",
       "      <td>0</td>\n",
       "      <td>0</td>\n",
       "      <td>STON/O2. 3101282</td>\n",
       "      <td>7.9250</td>\n",
       "      <td>NaN</td>\n",
       "      <td>S</td>\n",
       "    </tr>\n",
       "    <tr>\n",
       "      <th>3</th>\n",
       "      <td>4</td>\n",
       "      <td>1</td>\n",
       "      <td>1</td>\n",
       "      <td>Futrelle, Mrs. Jacques Heath (Lily May Peel)</td>\n",
       "      <td>female</td>\n",
       "      <td>35.0</td>\n",
       "      <td>1</td>\n",
       "      <td>0</td>\n",
       "      <td>113803</td>\n",
       "      <td>53.1000</td>\n",
       "      <td>C123</td>\n",
       "      <td>S</td>\n",
       "    </tr>\n",
       "    <tr>\n",
       "      <th>4</th>\n",
       "      <td>5</td>\n",
       "      <td>0</td>\n",
       "      <td>3</td>\n",
       "      <td>Allen, Mr. William Henry</td>\n",
       "      <td>male</td>\n",
       "      <td>35.0</td>\n",
       "      <td>0</td>\n",
       "      <td>0</td>\n",
       "      <td>373450</td>\n",
       "      <td>8.0500</td>\n",
       "      <td>NaN</td>\n",
       "      <td>S</td>\n",
       "    </tr>\n",
       "  </tbody>\n",
       "</table>\n",
       "</div>"
      ],
      "text/plain": [
       "   PassengerId  Survived  Pclass  \\\n",
       "0            1         0       3   \n",
       "1            2         1       1   \n",
       "2            3         1       3   \n",
       "3            4         1       1   \n",
       "4            5         0       3   \n",
       "\n",
       "                                                Name     Sex   Age  SibSp  \\\n",
       "0                            Braund, Mr. Owen Harris    male  22.0      1   \n",
       "1  Cumings, Mrs. John Bradley (Florence Briggs Th...  female  38.0      1   \n",
       "2                             Heikkinen, Miss. Laina  female  26.0      0   \n",
       "3       Futrelle, Mrs. Jacques Heath (Lily May Peel)  female  35.0      1   \n",
       "4                           Allen, Mr. William Henry    male  35.0      0   \n",
       "\n",
       "   Parch            Ticket     Fare Cabin Embarked  \n",
       "0      0         A/5 21171   7.2500   NaN        S  \n",
       "1      0          PC 17599  71.2833   C85        C  \n",
       "2      0  STON/O2. 3101282   7.9250   NaN        S  \n",
       "3      0            113803  53.1000  C123        S  \n",
       "4      0            373450   8.0500   NaN        S  "
      ]
     },
     "execution_count": 2,
     "metadata": {},
     "output_type": "execute_result"
    }
   ],
   "source": [
    "train.head()"
   ]
  },
  {
   "cell_type": "code",
   "execution_count": 3,
   "id": "c032eba2",
   "metadata": {},
   "outputs": [
    {
     "name": "stdout",
     "output_type": "stream",
     "text": [
      "<class 'pandas.core.frame.DataFrame'>\n",
      "RangeIndex: 891 entries, 0 to 890\n",
      "Data columns (total 12 columns):\n",
      " #   Column       Non-Null Count  Dtype  \n",
      "---  ------       --------------  -----  \n",
      " 0   PassengerId  891 non-null    int64  \n",
      " 1   Survived     891 non-null    int64  \n",
      " 2   Pclass       891 non-null    int64  \n",
      " 3   Name         891 non-null    object \n",
      " 4   Sex          891 non-null    object \n",
      " 5   Age          714 non-null    float64\n",
      " 6   SibSp        891 non-null    int64  \n",
      " 7   Parch        891 non-null    int64  \n",
      " 8   Ticket       891 non-null    object \n",
      " 9   Fare         891 non-null    float64\n",
      " 10  Cabin        204 non-null    object \n",
      " 11  Embarked     889 non-null    object \n",
      "dtypes: float64(2), int64(5), object(5)\n",
      "memory usage: 83.7+ KB\n"
     ]
    }
   ],
   "source": [
    "# Training set info\n",
    "train.info()"
   ]
  },
  {
   "cell_type": "code",
   "execution_count": 4,
   "id": "c104259d",
   "metadata": {},
   "outputs": [
    {
     "name": "stdout",
     "output_type": "stream",
     "text": [
      "<class 'pandas.core.frame.DataFrame'>\n",
      "RangeIndex: 418 entries, 0 to 417\n",
      "Data columns (total 11 columns):\n",
      " #   Column       Non-Null Count  Dtype  \n",
      "---  ------       --------------  -----  \n",
      " 0   PassengerId  418 non-null    int64  \n",
      " 1   Pclass       418 non-null    int64  \n",
      " 2   Name         418 non-null    object \n",
      " 3   Sex          418 non-null    object \n",
      " 4   Age          332 non-null    float64\n",
      " 5   SibSp        418 non-null    int64  \n",
      " 6   Parch        418 non-null    int64  \n",
      " 7   Ticket       418 non-null    object \n",
      " 8   Fare         417 non-null    float64\n",
      " 9   Cabin        91 non-null     object \n",
      " 10  Embarked     418 non-null    object \n",
      "dtypes: float64(2), int64(4), object(5)\n",
      "memory usage: 36.0+ KB\n"
     ]
    }
   ],
   "source": [
    "# Test set info\n",
    "test.info()"
   ]
  },
  {
   "cell_type": "markdown",
   "id": "95ed12ef",
   "metadata": {},
   "source": [
    "The training data has 12 columns. Test data has 11 columns. Column 'Survived' is a target, integer dtype, binary encoded (1 - survived, 0 - not survived). It  Among the features, 6 columns are numeric dtype and 5 object dtype."
   ]
  },
  {
   "cell_type": "code",
   "execution_count": 5,
   "id": "81d8fbc7",
   "metadata": {},
   "outputs": [
    {
     "data": {
      "text/plain": [
       "PassengerId      0\n",
       "Survived         0\n",
       "Pclass           0\n",
       "Name             0\n",
       "Sex              0\n",
       "Age            177\n",
       "SibSp            0\n",
       "Parch            0\n",
       "Ticket           0\n",
       "Fare             0\n",
       "Cabin          687\n",
       "Embarked         2\n",
       "dtype: int64"
      ]
     },
     "execution_count": 5,
     "metadata": {},
     "output_type": "execute_result"
    }
   ],
   "source": [
    "# Check missing values in training set\n",
    "train.isnull().sum()"
   ]
  },
  {
   "cell_type": "markdown",
   "id": "5e8ad6ee",
   "metadata": {},
   "source": [
    "In training set, there is 687/891 missing values in column 'Cabin', 177/891 in column 'Age' and 2/891 in column 'Embarked'"
   ]
  },
  {
   "cell_type": "code",
   "execution_count": 6,
   "id": "c710ff73",
   "metadata": {},
   "outputs": [
    {
     "data": {
      "text/plain": [
       "PassengerId      0\n",
       "Pclass           0\n",
       "Name             0\n",
       "Sex              0\n",
       "Age             86\n",
       "SibSp            0\n",
       "Parch            0\n",
       "Ticket           0\n",
       "Fare             1\n",
       "Cabin          327\n",
       "Embarked         0\n",
       "dtype: int64"
      ]
     },
     "execution_count": 6,
     "metadata": {},
     "output_type": "execute_result"
    }
   ],
   "source": [
    "# Check missing values in test set\n",
    "test.isnull().sum()"
   ]
  },
  {
   "cell_type": "markdown",
   "id": "52943e26",
   "metadata": {},
   "source": [
    "In test set, there is 327/418 missing values in 'Cabin' column, 86/418 in 'Age' column and 1 missing value in 'Fare' column"
   ]
  },
  {
   "cell_type": "code",
   "execution_count": 7,
   "id": "9388556a",
   "metadata": {},
   "outputs": [
    {
     "data": {
      "text/html": [
       "<div>\n",
       "<style scoped>\n",
       "    .dataframe tbody tr th:only-of-type {\n",
       "        vertical-align: middle;\n",
       "    }\n",
       "\n",
       "    .dataframe tbody tr th {\n",
       "        vertical-align: top;\n",
       "    }\n",
       "\n",
       "    .dataframe thead th {\n",
       "        text-align: right;\n",
       "    }\n",
       "</style>\n",
       "<table border=\"1\" class=\"dataframe\">\n",
       "  <thead>\n",
       "    <tr style=\"text-align: right;\">\n",
       "      <th></th>\n",
       "      <th>PassengerId</th>\n",
       "      <th>Survived</th>\n",
       "      <th>Pclass</th>\n",
       "      <th>Age</th>\n",
       "      <th>SibSp</th>\n",
       "      <th>Parch</th>\n",
       "      <th>Fare</th>\n",
       "    </tr>\n",
       "  </thead>\n",
       "  <tbody>\n",
       "    <tr>\n",
       "      <th>count</th>\n",
       "      <td>891.000000</td>\n",
       "      <td>891.000000</td>\n",
       "      <td>891.000000</td>\n",
       "      <td>714.000000</td>\n",
       "      <td>891.000000</td>\n",
       "      <td>891.000000</td>\n",
       "      <td>891.000000</td>\n",
       "    </tr>\n",
       "    <tr>\n",
       "      <th>mean</th>\n",
       "      <td>446.000000</td>\n",
       "      <td>0.383838</td>\n",
       "      <td>2.308642</td>\n",
       "      <td>29.699118</td>\n",
       "      <td>0.523008</td>\n",
       "      <td>0.381594</td>\n",
       "      <td>32.204208</td>\n",
       "    </tr>\n",
       "    <tr>\n",
       "      <th>std</th>\n",
       "      <td>257.353842</td>\n",
       "      <td>0.486592</td>\n",
       "      <td>0.836071</td>\n",
       "      <td>14.526497</td>\n",
       "      <td>1.102743</td>\n",
       "      <td>0.806057</td>\n",
       "      <td>49.693429</td>\n",
       "    </tr>\n",
       "    <tr>\n",
       "      <th>min</th>\n",
       "      <td>1.000000</td>\n",
       "      <td>0.000000</td>\n",
       "      <td>1.000000</td>\n",
       "      <td>0.420000</td>\n",
       "      <td>0.000000</td>\n",
       "      <td>0.000000</td>\n",
       "      <td>0.000000</td>\n",
       "    </tr>\n",
       "    <tr>\n",
       "      <th>25%</th>\n",
       "      <td>223.500000</td>\n",
       "      <td>0.000000</td>\n",
       "      <td>2.000000</td>\n",
       "      <td>20.125000</td>\n",
       "      <td>0.000000</td>\n",
       "      <td>0.000000</td>\n",
       "      <td>7.910400</td>\n",
       "    </tr>\n",
       "    <tr>\n",
       "      <th>50%</th>\n",
       "      <td>446.000000</td>\n",
       "      <td>0.000000</td>\n",
       "      <td>3.000000</td>\n",
       "      <td>28.000000</td>\n",
       "      <td>0.000000</td>\n",
       "      <td>0.000000</td>\n",
       "      <td>14.454200</td>\n",
       "    </tr>\n",
       "    <tr>\n",
       "      <th>75%</th>\n",
       "      <td>668.500000</td>\n",
       "      <td>1.000000</td>\n",
       "      <td>3.000000</td>\n",
       "      <td>38.000000</td>\n",
       "      <td>1.000000</td>\n",
       "      <td>0.000000</td>\n",
       "      <td>31.000000</td>\n",
       "    </tr>\n",
       "    <tr>\n",
       "      <th>max</th>\n",
       "      <td>891.000000</td>\n",
       "      <td>1.000000</td>\n",
       "      <td>3.000000</td>\n",
       "      <td>80.000000</td>\n",
       "      <td>8.000000</td>\n",
       "      <td>6.000000</td>\n",
       "      <td>512.329200</td>\n",
       "    </tr>\n",
       "  </tbody>\n",
       "</table>\n",
       "</div>"
      ],
      "text/plain": [
       "       PassengerId    Survived      Pclass         Age       SibSp  \\\n",
       "count   891.000000  891.000000  891.000000  714.000000  891.000000   \n",
       "mean    446.000000    0.383838    2.308642   29.699118    0.523008   \n",
       "std     257.353842    0.486592    0.836071   14.526497    1.102743   \n",
       "min       1.000000    0.000000    1.000000    0.420000    0.000000   \n",
       "25%     223.500000    0.000000    2.000000   20.125000    0.000000   \n",
       "50%     446.000000    0.000000    3.000000   28.000000    0.000000   \n",
       "75%     668.500000    1.000000    3.000000   38.000000    1.000000   \n",
       "max     891.000000    1.000000    3.000000   80.000000    8.000000   \n",
       "\n",
       "            Parch        Fare  \n",
       "count  891.000000  891.000000  \n",
       "mean     0.381594   32.204208  \n",
       "std      0.806057   49.693429  \n",
       "min      0.000000    0.000000  \n",
       "25%      0.000000    7.910400  \n",
       "50%      0.000000   14.454200  \n",
       "75%      0.000000   31.000000  \n",
       "max      6.000000  512.329200  "
      ]
     },
     "execution_count": 7,
     "metadata": {},
     "output_type": "execute_result"
    }
   ],
   "source": [
    "train.describe()"
   ]
  },
  {
   "cell_type": "code",
   "execution_count": 8,
   "id": "17bce3bc",
   "metadata": {},
   "outputs": [
    {
     "data": {
      "text/html": [
       "<div>\n",
       "<style scoped>\n",
       "    .dataframe tbody tr th:only-of-type {\n",
       "        vertical-align: middle;\n",
       "    }\n",
       "\n",
       "    .dataframe tbody tr th {\n",
       "        vertical-align: top;\n",
       "    }\n",
       "\n",
       "    .dataframe thead th {\n",
       "        text-align: right;\n",
       "    }\n",
       "</style>\n",
       "<table border=\"1\" class=\"dataframe\">\n",
       "  <thead>\n",
       "    <tr style=\"text-align: right;\">\n",
       "      <th></th>\n",
       "      <th>PassengerId</th>\n",
       "      <th>Pclass</th>\n",
       "      <th>Age</th>\n",
       "      <th>SibSp</th>\n",
       "      <th>Parch</th>\n",
       "      <th>Fare</th>\n",
       "    </tr>\n",
       "  </thead>\n",
       "  <tbody>\n",
       "    <tr>\n",
       "      <th>count</th>\n",
       "      <td>418.000000</td>\n",
       "      <td>418.000000</td>\n",
       "      <td>332.000000</td>\n",
       "      <td>418.000000</td>\n",
       "      <td>418.000000</td>\n",
       "      <td>417.000000</td>\n",
       "    </tr>\n",
       "    <tr>\n",
       "      <th>mean</th>\n",
       "      <td>1100.500000</td>\n",
       "      <td>2.265550</td>\n",
       "      <td>30.272590</td>\n",
       "      <td>0.447368</td>\n",
       "      <td>0.392344</td>\n",
       "      <td>35.627188</td>\n",
       "    </tr>\n",
       "    <tr>\n",
       "      <th>std</th>\n",
       "      <td>120.810458</td>\n",
       "      <td>0.841838</td>\n",
       "      <td>14.181209</td>\n",
       "      <td>0.896760</td>\n",
       "      <td>0.981429</td>\n",
       "      <td>55.907576</td>\n",
       "    </tr>\n",
       "    <tr>\n",
       "      <th>min</th>\n",
       "      <td>892.000000</td>\n",
       "      <td>1.000000</td>\n",
       "      <td>0.170000</td>\n",
       "      <td>0.000000</td>\n",
       "      <td>0.000000</td>\n",
       "      <td>0.000000</td>\n",
       "    </tr>\n",
       "    <tr>\n",
       "      <th>25%</th>\n",
       "      <td>996.250000</td>\n",
       "      <td>1.000000</td>\n",
       "      <td>21.000000</td>\n",
       "      <td>0.000000</td>\n",
       "      <td>0.000000</td>\n",
       "      <td>7.895800</td>\n",
       "    </tr>\n",
       "    <tr>\n",
       "      <th>50%</th>\n",
       "      <td>1100.500000</td>\n",
       "      <td>3.000000</td>\n",
       "      <td>27.000000</td>\n",
       "      <td>0.000000</td>\n",
       "      <td>0.000000</td>\n",
       "      <td>14.454200</td>\n",
       "    </tr>\n",
       "    <tr>\n",
       "      <th>75%</th>\n",
       "      <td>1204.750000</td>\n",
       "      <td>3.000000</td>\n",
       "      <td>39.000000</td>\n",
       "      <td>1.000000</td>\n",
       "      <td>0.000000</td>\n",
       "      <td>31.500000</td>\n",
       "    </tr>\n",
       "    <tr>\n",
       "      <th>max</th>\n",
       "      <td>1309.000000</td>\n",
       "      <td>3.000000</td>\n",
       "      <td>76.000000</td>\n",
       "      <td>8.000000</td>\n",
       "      <td>9.000000</td>\n",
       "      <td>512.329200</td>\n",
       "    </tr>\n",
       "  </tbody>\n",
       "</table>\n",
       "</div>"
      ],
      "text/plain": [
       "       PassengerId      Pclass         Age       SibSp       Parch        Fare\n",
       "count   418.000000  418.000000  332.000000  418.000000  418.000000  417.000000\n",
       "mean   1100.500000    2.265550   30.272590    0.447368    0.392344   35.627188\n",
       "std     120.810458    0.841838   14.181209    0.896760    0.981429   55.907576\n",
       "min     892.000000    1.000000    0.170000    0.000000    0.000000    0.000000\n",
       "25%     996.250000    1.000000   21.000000    0.000000    0.000000    7.895800\n",
       "50%    1100.500000    3.000000   27.000000    0.000000    0.000000   14.454200\n",
       "75%    1204.750000    3.000000   39.000000    1.000000    0.000000   31.500000\n",
       "max    1309.000000    3.000000   76.000000    8.000000    9.000000  512.329200"
      ]
     },
     "execution_count": 8,
     "metadata": {},
     "output_type": "execute_result"
    }
   ],
   "source": [
    "test.describe()"
   ]
  },
  {
   "cell_type": "markdown",
   "id": "18a4a9e4",
   "metadata": {},
   "source": [
    "In both datasets, minimum value in 'Age' column is less than 1. This feature needs further exploration."
   ]
  },
  {
   "cell_type": "code",
   "execution_count": 9,
   "id": "b26b2e9e",
   "metadata": {},
   "outputs": [],
   "source": [
    "# Assign target data and get feature names\n",
    "y_train = train['Survived']\n",
    "features = [x for x in train.columns if x != 'Survived']\n"
   ]
  },
  {
   "cell_type": "code",
   "execution_count": 10,
   "id": "a246fee7",
   "metadata": {},
   "outputs": [],
   "source": [
    "y_test = y_test.drop('PassengerId', axis=1)"
   ]
  },
  {
   "cell_type": "code",
   "execution_count": 11,
   "id": "313f808a",
   "metadata": {},
   "outputs": [
    {
     "data": {
      "text/html": [
       "<div>\n",
       "<style scoped>\n",
       "    .dataframe tbody tr th:only-of-type {\n",
       "        vertical-align: middle;\n",
       "    }\n",
       "\n",
       "    .dataframe tbody tr th {\n",
       "        vertical-align: top;\n",
       "    }\n",
       "\n",
       "    .dataframe thead th {\n",
       "        text-align: right;\n",
       "    }\n",
       "</style>\n",
       "<table border=\"1\" class=\"dataframe\">\n",
       "  <thead>\n",
       "    <tr style=\"text-align: right;\">\n",
       "      <th></th>\n",
       "      <th>Survived</th>\n",
       "    </tr>\n",
       "  </thead>\n",
       "  <tbody>\n",
       "    <tr>\n",
       "      <th>0</th>\n",
       "      <td>0</td>\n",
       "    </tr>\n",
       "    <tr>\n",
       "      <th>1</th>\n",
       "      <td>1</td>\n",
       "    </tr>\n",
       "    <tr>\n",
       "      <th>2</th>\n",
       "      <td>0</td>\n",
       "    </tr>\n",
       "    <tr>\n",
       "      <th>3</th>\n",
       "      <td>0</td>\n",
       "    </tr>\n",
       "    <tr>\n",
       "      <th>4</th>\n",
       "      <td>1</td>\n",
       "    </tr>\n",
       "  </tbody>\n",
       "</table>\n",
       "</div>"
      ],
      "text/plain": [
       "   Survived\n",
       "0         0\n",
       "1         1\n",
       "2         0\n",
       "3         0\n",
       "4         1"
      ]
     },
     "execution_count": 11,
     "metadata": {},
     "output_type": "execute_result"
    }
   ],
   "source": [
    "y_test.head()"
   ]
  },
  {
   "cell_type": "markdown",
   "id": "d66e384b",
   "metadata": {},
   "source": [
    "<h2>Data preparation</h2>"
   ]
  },
  {
   "cell_type": "markdown",
   "id": "2519ed75",
   "metadata": {},
   "source": [
    "<h3>Cabin</h3>"
   ]
  },
  {
   "cell_type": "code",
   "execution_count": 12,
   "id": "033282ed",
   "metadata": {},
   "outputs": [
    {
     "data": {
      "text/plain": [
       "B96 B98        4\n",
       "G6             4\n",
       "C23 C25 C27    4\n",
       "C22 C26        3\n",
       "F33            3\n",
       "              ..\n",
       "E34            1\n",
       "C7             1\n",
       "C54            1\n",
       "E36            1\n",
       "C148           1\n",
       "Name: Cabin, Length: 147, dtype: int64"
      ]
     },
     "execution_count": 12,
     "metadata": {},
     "output_type": "execute_result"
    }
   ],
   "source": [
    "# Examine cabin values\n",
    "train['Cabin'].value_counts()"
   ]
  },
  {
   "cell_type": "markdown",
   "id": "bb2caef1",
   "metadata": {},
   "source": [
    "Since 'Cabin' column has a lot of unique categorical values and a lot of missing values both in train and test set, I drop this column."
   ]
  },
  {
   "cell_type": "code",
   "execution_count": 13,
   "id": "175f301b",
   "metadata": {},
   "outputs": [],
   "source": [
    "train.drop('Cabin', axis=1, inplace=True)\n",
    "test.drop('Cabin', axis=1, inplace=True);"
   ]
  },
  {
   "cell_type": "code",
   "execution_count": 14,
   "id": "7a1abf51",
   "metadata": {},
   "outputs": [],
   "source": [
    "features.remove('Cabin')"
   ]
  },
  {
   "cell_type": "markdown",
   "id": "a2aacdbe",
   "metadata": {},
   "source": [
    "<h3>Ticket</h3>"
   ]
  },
  {
   "cell_type": "markdown",
   "id": "07e1d625",
   "metadata": {},
   "source": [
    "Similarly, 'Ticket' column is unlikely to provide any useful information, thus I drop it as well."
   ]
  },
  {
   "cell_type": "code",
   "execution_count": 15,
   "id": "0805c3e8",
   "metadata": {},
   "outputs": [],
   "source": [
    "train.drop('Ticket', axis=1, inplace=True)\n",
    "test.drop('Ticket', axis=1, inplace=True)"
   ]
  },
  {
   "cell_type": "code",
   "execution_count": 16,
   "id": "2adecfde",
   "metadata": {},
   "outputs": [],
   "source": [
    "features.remove('Ticket')"
   ]
  },
  {
   "cell_type": "markdown",
   "id": "27728fe4",
   "metadata": {},
   "source": [
    "<h3>Embarked</h3>"
   ]
  },
  {
   "cell_type": "markdown",
   "id": "cfa7c9fa",
   "metadata": {},
   "source": [
    "There are only 2 missing values of this feature in train set, I fill it."
   ]
  },
  {
   "cell_type": "code",
   "execution_count": 17,
   "id": "53fa379e",
   "metadata": {},
   "outputs": [
    {
     "data": {
      "text/plain": [
       "S    0.724409\n",
       "C    0.188976\n",
       "Q    0.086614\n",
       "Name: Embarked, dtype: float64"
      ]
     },
     "execution_count": 17,
     "metadata": {},
     "output_type": "execute_result"
    }
   ],
   "source": [
    "train['Embarked'].value_counts(normalize=True)"
   ]
  },
  {
   "cell_type": "markdown",
   "id": "5580eae0",
   "metadata": {},
   "source": [
    "Most frequent value is 'S', so i fill missing values with it."
   ]
  },
  {
   "cell_type": "code",
   "execution_count": 18,
   "id": "cb843994",
   "metadata": {},
   "outputs": [],
   "source": [
    "train = train.fillna({'Embarked': 'S'})"
   ]
  },
  {
   "cell_type": "markdown",
   "id": "eaf49ae2",
   "metadata": {},
   "source": [
    "<h3>Age</h3>"
   ]
  },
  {
   "cell_type": "markdown",
   "id": "e69bd4f6",
   "metadata": {},
   "source": [
    "There is a lot of missing values in 'Age' columns which should be filled. But first I check the values less than 1"
   ]
  },
  {
   "cell_type": "code",
   "execution_count": 19,
   "id": "5e17f02f",
   "metadata": {},
   "outputs": [
    {
     "data": {
      "text/html": [
       "<div>\n",
       "<style scoped>\n",
       "    .dataframe tbody tr th:only-of-type {\n",
       "        vertical-align: middle;\n",
       "    }\n",
       "\n",
       "    .dataframe tbody tr th {\n",
       "        vertical-align: top;\n",
       "    }\n",
       "\n",
       "    .dataframe thead th {\n",
       "        text-align: right;\n",
       "    }\n",
       "</style>\n",
       "<table border=\"1\" class=\"dataframe\">\n",
       "  <thead>\n",
       "    <tr style=\"text-align: right;\">\n",
       "      <th></th>\n",
       "      <th>PassengerId</th>\n",
       "      <th>Survived</th>\n",
       "      <th>Pclass</th>\n",
       "      <th>Name</th>\n",
       "      <th>Sex</th>\n",
       "      <th>Age</th>\n",
       "      <th>SibSp</th>\n",
       "      <th>Parch</th>\n",
       "      <th>Fare</th>\n",
       "      <th>Embarked</th>\n",
       "    </tr>\n",
       "  </thead>\n",
       "  <tbody>\n",
       "    <tr>\n",
       "      <th>78</th>\n",
       "      <td>79</td>\n",
       "      <td>1</td>\n",
       "      <td>2</td>\n",
       "      <td>Caldwell, Master. Alden Gates</td>\n",
       "      <td>male</td>\n",
       "      <td>0.83</td>\n",
       "      <td>0</td>\n",
       "      <td>2</td>\n",
       "      <td>29.0000</td>\n",
       "      <td>S</td>\n",
       "    </tr>\n",
       "    <tr>\n",
       "      <th>305</th>\n",
       "      <td>306</td>\n",
       "      <td>1</td>\n",
       "      <td>1</td>\n",
       "      <td>Allison, Master. Hudson Trevor</td>\n",
       "      <td>male</td>\n",
       "      <td>0.92</td>\n",
       "      <td>1</td>\n",
       "      <td>2</td>\n",
       "      <td>151.5500</td>\n",
       "      <td>S</td>\n",
       "    </tr>\n",
       "    <tr>\n",
       "      <th>469</th>\n",
       "      <td>470</td>\n",
       "      <td>1</td>\n",
       "      <td>3</td>\n",
       "      <td>Baclini, Miss. Helene Barbara</td>\n",
       "      <td>female</td>\n",
       "      <td>0.75</td>\n",
       "      <td>2</td>\n",
       "      <td>1</td>\n",
       "      <td>19.2583</td>\n",
       "      <td>C</td>\n",
       "    </tr>\n",
       "    <tr>\n",
       "      <th>644</th>\n",
       "      <td>645</td>\n",
       "      <td>1</td>\n",
       "      <td>3</td>\n",
       "      <td>Baclini, Miss. Eugenie</td>\n",
       "      <td>female</td>\n",
       "      <td>0.75</td>\n",
       "      <td>2</td>\n",
       "      <td>1</td>\n",
       "      <td>19.2583</td>\n",
       "      <td>C</td>\n",
       "    </tr>\n",
       "    <tr>\n",
       "      <th>755</th>\n",
       "      <td>756</td>\n",
       "      <td>1</td>\n",
       "      <td>2</td>\n",
       "      <td>Hamalainen, Master. Viljo</td>\n",
       "      <td>male</td>\n",
       "      <td>0.67</td>\n",
       "      <td>1</td>\n",
       "      <td>1</td>\n",
       "      <td>14.5000</td>\n",
       "      <td>S</td>\n",
       "    </tr>\n",
       "    <tr>\n",
       "      <th>803</th>\n",
       "      <td>804</td>\n",
       "      <td>1</td>\n",
       "      <td>3</td>\n",
       "      <td>Thomas, Master. Assad Alexander</td>\n",
       "      <td>male</td>\n",
       "      <td>0.42</td>\n",
       "      <td>0</td>\n",
       "      <td>1</td>\n",
       "      <td>8.5167</td>\n",
       "      <td>C</td>\n",
       "    </tr>\n",
       "    <tr>\n",
       "      <th>831</th>\n",
       "      <td>832</td>\n",
       "      <td>1</td>\n",
       "      <td>2</td>\n",
       "      <td>Richards, Master. George Sibley</td>\n",
       "      <td>male</td>\n",
       "      <td>0.83</td>\n",
       "      <td>1</td>\n",
       "      <td>1</td>\n",
       "      <td>18.7500</td>\n",
       "      <td>S</td>\n",
       "    </tr>\n",
       "  </tbody>\n",
       "</table>\n",
       "</div>"
      ],
      "text/plain": [
       "     PassengerId  Survived  Pclass                             Name     Sex  \\\n",
       "78            79         1       2    Caldwell, Master. Alden Gates    male   \n",
       "305          306         1       1   Allison, Master. Hudson Trevor    male   \n",
       "469          470         1       3    Baclini, Miss. Helene Barbara  female   \n",
       "644          645         1       3           Baclini, Miss. Eugenie  female   \n",
       "755          756         1       2        Hamalainen, Master. Viljo    male   \n",
       "803          804         1       3  Thomas, Master. Assad Alexander    male   \n",
       "831          832         1       2  Richards, Master. George Sibley    male   \n",
       "\n",
       "      Age  SibSp  Parch      Fare Embarked  \n",
       "78   0.83      0      2   29.0000        S  \n",
       "305  0.92      1      2  151.5500        S  \n",
       "469  0.75      2      1   19.2583        C  \n",
       "644  0.75      2      1   19.2583        C  \n",
       "755  0.67      1      1   14.5000        S  \n",
       "803  0.42      0      1    8.5167        C  \n",
       "831  0.83      1      1   18.7500        S  "
      ]
     },
     "execution_count": 19,
     "metadata": {},
     "output_type": "execute_result"
    }
   ],
   "source": [
    "train[train['Age'] < 1]"
   ]
  },
  {
   "cell_type": "code",
   "execution_count": 20,
   "id": "59b8e066",
   "metadata": {},
   "outputs": [
    {
     "data": {
      "text/html": [
       "<div>\n",
       "<style scoped>\n",
       "    .dataframe tbody tr th:only-of-type {\n",
       "        vertical-align: middle;\n",
       "    }\n",
       "\n",
       "    .dataframe tbody tr th {\n",
       "        vertical-align: top;\n",
       "    }\n",
       "\n",
       "    .dataframe thead th {\n",
       "        text-align: right;\n",
       "    }\n",
       "</style>\n",
       "<table border=\"1\" class=\"dataframe\">\n",
       "  <thead>\n",
       "    <tr style=\"text-align: right;\">\n",
       "      <th></th>\n",
       "      <th>PassengerId</th>\n",
       "      <th>Pclass</th>\n",
       "      <th>Name</th>\n",
       "      <th>Sex</th>\n",
       "      <th>Age</th>\n",
       "      <th>SibSp</th>\n",
       "      <th>Parch</th>\n",
       "      <th>Fare</th>\n",
       "      <th>Embarked</th>\n",
       "    </tr>\n",
       "  </thead>\n",
       "  <tbody>\n",
       "    <tr>\n",
       "      <th>201</th>\n",
       "      <td>1093</td>\n",
       "      <td>3</td>\n",
       "      <td>Danbom, Master. Gilbert Sigvard Emanuel</td>\n",
       "      <td>male</td>\n",
       "      <td>0.33</td>\n",
       "      <td>0</td>\n",
       "      <td>2</td>\n",
       "      <td>14.400</td>\n",
       "      <td>S</td>\n",
       "    </tr>\n",
       "    <tr>\n",
       "      <th>250</th>\n",
       "      <td>1142</td>\n",
       "      <td>2</td>\n",
       "      <td>West, Miss. Barbara J</td>\n",
       "      <td>female</td>\n",
       "      <td>0.92</td>\n",
       "      <td>1</td>\n",
       "      <td>2</td>\n",
       "      <td>27.750</td>\n",
       "      <td>S</td>\n",
       "    </tr>\n",
       "    <tr>\n",
       "      <th>281</th>\n",
       "      <td>1173</td>\n",
       "      <td>3</td>\n",
       "      <td>Peacock, Master. Alfred Edward</td>\n",
       "      <td>male</td>\n",
       "      <td>0.75</td>\n",
       "      <td>1</td>\n",
       "      <td>1</td>\n",
       "      <td>13.775</td>\n",
       "      <td>S</td>\n",
       "    </tr>\n",
       "    <tr>\n",
       "      <th>307</th>\n",
       "      <td>1199</td>\n",
       "      <td>3</td>\n",
       "      <td>Aks, Master. Philip Frank</td>\n",
       "      <td>male</td>\n",
       "      <td>0.83</td>\n",
       "      <td>0</td>\n",
       "      <td>1</td>\n",
       "      <td>9.350</td>\n",
       "      <td>S</td>\n",
       "    </tr>\n",
       "    <tr>\n",
       "      <th>354</th>\n",
       "      <td>1246</td>\n",
       "      <td>3</td>\n",
       "      <td>Dean, Miss. Elizabeth Gladys Millvina\"\"</td>\n",
       "      <td>female</td>\n",
       "      <td>0.17</td>\n",
       "      <td>1</td>\n",
       "      <td>2</td>\n",
       "      <td>20.575</td>\n",
       "      <td>S</td>\n",
       "    </tr>\n",
       "  </tbody>\n",
       "</table>\n",
       "</div>"
      ],
      "text/plain": [
       "     PassengerId  Pclass                                     Name     Sex  \\\n",
       "201         1093       3  Danbom, Master. Gilbert Sigvard Emanuel    male   \n",
       "250         1142       2                    West, Miss. Barbara J  female   \n",
       "281         1173       3           Peacock, Master. Alfred Edward    male   \n",
       "307         1199       3                Aks, Master. Philip Frank    male   \n",
       "354         1246       3  Dean, Miss. Elizabeth Gladys Millvina\"\"  female   \n",
       "\n",
       "      Age  SibSp  Parch    Fare Embarked  \n",
       "201  0.33      0      2  14.400        S  \n",
       "250  0.92      1      2  27.750        S  \n",
       "281  0.75      1      1  13.775        S  \n",
       "307  0.83      0      1   9.350        S  \n",
       "354  0.17      1      2  20.575        S  "
      ]
     },
     "execution_count": 20,
     "metadata": {},
     "output_type": "execute_result"
    }
   ],
   "source": [
    "test[test['Age'] < 1]"
   ]
  },
  {
   "cell_type": "markdown",
   "id": "5f2e802a",
   "metadata": {},
   "source": [
    "Age values above seems to be errors. I assign NaN to them, and later they will be filled."
   ]
  },
  {
   "cell_type": "code",
   "execution_count": 21,
   "id": "f1f096b8",
   "metadata": {},
   "outputs": [],
   "source": [
    "train_age_idxs = train[train['Age'] < 1].index\n",
    "test_age_idxs = test[test['Age'] < 1].index\n",
    "train.loc[train_age_idxs, 'Age'] = np.nan\n",
    "test.loc[test_age_idxs, 'Age'] = np.nan"
   ]
  },
  {
   "cell_type": "markdown",
   "id": "a7ab369d",
   "metadata": {},
   "source": [
    "Fill missing age values"
   ]
  },
  {
   "cell_type": "code",
   "execution_count": 22,
   "id": "b3e24d65",
   "metadata": {},
   "outputs": [
    {
     "data": {
      "text/plain": [
       "Age            1.000000\n",
       "Pclass         0.376786\n",
       "SibSp          0.305371\n",
       "Parch          0.173905\n",
       "Fare           0.099329\n",
       "PassengerId    0.046289\n",
       "dtype: float64"
      ]
     },
     "execution_count": 22,
     "metadata": {},
     "output_type": "execute_result"
    }
   ],
   "source": [
    "# Check age correlation to another features\n",
    "age_correlations_train = train[features].corrwith(train['Age']).abs().sort_values(ascending=False)\n",
    "age_correlations_train"
   ]
  },
  {
   "cell_type": "code",
   "execution_count": 23,
   "id": "bbbe3589",
   "metadata": {},
   "outputs": [
    {
     "data": {
      "text/plain": [
       "Age            1.000000\n",
       "Pclass         0.486803\n",
       "Fare           0.337405\n",
       "SibSp          0.090576\n",
       "PassengerId    0.016256\n",
       "Parch          0.014313\n",
       "dtype: float64"
      ]
     },
     "execution_count": 23,
     "metadata": {},
     "output_type": "execute_result"
    }
   ],
   "source": [
    "age_correlations_test = test[features].corrwith(test['Age']).abs().sort_values(ascending=False)\n",
    "age_correlations_test"
   ]
  },
  {
   "cell_type": "markdown",
   "id": "6e34c48c",
   "metadata": {},
   "source": [
    "Since there's a highest correlation between Age and Pclass, missing values will be filled with median value of age according to each pclass."
   ]
  },
  {
   "cell_type": "code",
   "execution_count": 24,
   "id": "5c6421f9",
   "metadata": {},
   "outputs": [],
   "source": [
    "# Fill missing values with median age for each of Pclass in both training and test set\n",
    "train['Age'] = train.groupby(['Pclass'])['Age'].apply(lambda x: x.fillna(x.median()))\n",
    "test['Age'] = test.groupby(['Pclass'])['Age'].apply(lambda x: x.fillna(x.median()))"
   ]
  },
  {
   "cell_type": "markdown",
   "id": "d9e08fdb",
   "metadata": {},
   "source": [
    "<h3>Fare</h3>"
   ]
  },
  {
   "cell_type": "code",
   "execution_count": 25,
   "id": "cbc868f5",
   "metadata": {},
   "outputs": [
    {
     "data": {
      "text/html": [
       "<div>\n",
       "<style scoped>\n",
       "    .dataframe tbody tr th:only-of-type {\n",
       "        vertical-align: middle;\n",
       "    }\n",
       "\n",
       "    .dataframe tbody tr th {\n",
       "        vertical-align: top;\n",
       "    }\n",
       "\n",
       "    .dataframe thead th {\n",
       "        text-align: right;\n",
       "    }\n",
       "</style>\n",
       "<table border=\"1\" class=\"dataframe\">\n",
       "  <thead>\n",
       "    <tr style=\"text-align: right;\">\n",
       "      <th></th>\n",
       "      <th>PassengerId</th>\n",
       "      <th>Pclass</th>\n",
       "      <th>Name</th>\n",
       "      <th>Sex</th>\n",
       "      <th>Age</th>\n",
       "      <th>SibSp</th>\n",
       "      <th>Parch</th>\n",
       "      <th>Fare</th>\n",
       "      <th>Embarked</th>\n",
       "    </tr>\n",
       "  </thead>\n",
       "  <tbody>\n",
       "    <tr>\n",
       "      <th>152</th>\n",
       "      <td>1044</td>\n",
       "      <td>3</td>\n",
       "      <td>Storey, Mr. Thomas</td>\n",
       "      <td>male</td>\n",
       "      <td>60.5</td>\n",
       "      <td>0</td>\n",
       "      <td>0</td>\n",
       "      <td>NaN</td>\n",
       "      <td>S</td>\n",
       "    </tr>\n",
       "  </tbody>\n",
       "</table>\n",
       "</div>"
      ],
      "text/plain": [
       "     PassengerId  Pclass                Name   Sex   Age  SibSp  Parch  Fare  \\\n",
       "152         1044       3  Storey, Mr. Thomas  male  60.5      0      0   NaN   \n",
       "\n",
       "    Embarked  \n",
       "152        S  "
      ]
     },
     "execution_count": 25,
     "metadata": {},
     "output_type": "execute_result"
    }
   ],
   "source": [
    "test[test['Fare'].isnull()]"
   ]
  },
  {
   "cell_type": "code",
   "execution_count": 26,
   "id": "c350110d",
   "metadata": {},
   "outputs": [
    {
     "data": {
      "text/plain": [
       "Fare           1.000000\n",
       "Pclass         0.549500\n",
       "Parch          0.216225\n",
       "SibSp          0.159651\n",
       "Age            0.129549\n",
       "PassengerId    0.012658\n",
       "dtype: float64"
      ]
     },
     "execution_count": 26,
     "metadata": {},
     "output_type": "execute_result"
    }
   ],
   "source": [
    "# Check age correlation to another features\n",
    "fare_correlations_train = train[features].corrwith(train['Fare']).abs().sort_values(ascending=False)\n",
    "fare_correlations_train"
   ]
  },
  {
   "cell_type": "code",
   "execution_count": 27,
   "id": "6622ca23",
   "metadata": {},
   "outputs": [
    {
     "data": {
      "text/plain": [
       "Fare           1.000000\n",
       "Pclass         0.577147\n",
       "Age            0.355370\n",
       "Parch          0.230046\n",
       "SibSp          0.171539\n",
       "PassengerId    0.008211\n",
       "dtype: float64"
      ]
     },
     "execution_count": 27,
     "metadata": {},
     "output_type": "execute_result"
    }
   ],
   "source": [
    "fare_correlations_test = test[features].corrwith(test['Fare']).abs().sort_values(ascending=False)\n",
    "fare_correlations_test"
   ]
  },
  {
   "cell_type": "markdown",
   "id": "8bfc0985",
   "metadata": {},
   "source": [
    "I fill this value with median value of fare for corresponding Pclass, because it is the feature of highest correlation with fare"
   ]
  },
  {
   "cell_type": "code",
   "execution_count": 28,
   "id": "f07dc29e",
   "metadata": {},
   "outputs": [],
   "source": [
    "test['Fare'] = test.groupby(['Pclass'])['Fare'].apply(lambda x: x.fillna(x.median()))"
   ]
  },
  {
   "cell_type": "markdown",
   "id": "d191a21a",
   "metadata": {},
   "source": [
    "<h3>Name</h3>"
   ]
  },
  {
   "cell_type": "markdown",
   "id": "8c697ef9",
   "metadata": {},
   "source": [
    "Name doesn't provide any useful information, I drop it."
   ]
  },
  {
   "cell_type": "code",
   "execution_count": 29,
   "id": "0482c7e4",
   "metadata": {},
   "outputs": [],
   "source": [
    "train.drop('Name', axis=1, inplace=True)\n",
    "test.drop('Name', axis=1, inplace=True)\n",
    "features.remove('Name')"
   ]
  },
  {
   "cell_type": "markdown",
   "id": "81ffc3d1",
   "metadata": {},
   "source": [
    "<h3>Embarked and sex</h3>"
   ]
  },
  {
   "cell_type": "markdown",
   "id": "b4462fc7",
   "metadata": {},
   "source": [
    "One hot encode these columns"
   ]
  },
  {
   "cell_type": "code",
   "execution_count": 30,
   "id": "62f09f65",
   "metadata": {},
   "outputs": [
    {
     "data": {
      "text/html": [
       "<div>\n",
       "<style scoped>\n",
       "    .dataframe tbody tr th:only-of-type {\n",
       "        vertical-align: middle;\n",
       "    }\n",
       "\n",
       "    .dataframe tbody tr th {\n",
       "        vertical-align: top;\n",
       "    }\n",
       "\n",
       "    .dataframe thead th {\n",
       "        text-align: right;\n",
       "    }\n",
       "</style>\n",
       "<table border=\"1\" class=\"dataframe\">\n",
       "  <thead>\n",
       "    <tr style=\"text-align: right;\">\n",
       "      <th></th>\n",
       "      <th>PassengerId</th>\n",
       "      <th>Survived</th>\n",
       "      <th>Pclass</th>\n",
       "      <th>Age</th>\n",
       "      <th>SibSp</th>\n",
       "      <th>Parch</th>\n",
       "      <th>Fare</th>\n",
       "      <th>Embarked_C</th>\n",
       "      <th>Embarked_Q</th>\n",
       "      <th>Embarked_S</th>\n",
       "      <th>Sex_female</th>\n",
       "      <th>Sex_male</th>\n",
       "    </tr>\n",
       "  </thead>\n",
       "  <tbody>\n",
       "    <tr>\n",
       "      <th>0</th>\n",
       "      <td>1</td>\n",
       "      <td>0</td>\n",
       "      <td>3</td>\n",
       "      <td>22.0</td>\n",
       "      <td>1</td>\n",
       "      <td>0</td>\n",
       "      <td>7.2500</td>\n",
       "      <td>0</td>\n",
       "      <td>0</td>\n",
       "      <td>1</td>\n",
       "      <td>0</td>\n",
       "      <td>1</td>\n",
       "    </tr>\n",
       "    <tr>\n",
       "      <th>1</th>\n",
       "      <td>2</td>\n",
       "      <td>1</td>\n",
       "      <td>1</td>\n",
       "      <td>38.0</td>\n",
       "      <td>1</td>\n",
       "      <td>0</td>\n",
       "      <td>71.2833</td>\n",
       "      <td>1</td>\n",
       "      <td>0</td>\n",
       "      <td>0</td>\n",
       "      <td>1</td>\n",
       "      <td>0</td>\n",
       "    </tr>\n",
       "    <tr>\n",
       "      <th>2</th>\n",
       "      <td>3</td>\n",
       "      <td>1</td>\n",
       "      <td>3</td>\n",
       "      <td>26.0</td>\n",
       "      <td>0</td>\n",
       "      <td>0</td>\n",
       "      <td>7.9250</td>\n",
       "      <td>0</td>\n",
       "      <td>0</td>\n",
       "      <td>1</td>\n",
       "      <td>1</td>\n",
       "      <td>0</td>\n",
       "    </tr>\n",
       "    <tr>\n",
       "      <th>3</th>\n",
       "      <td>4</td>\n",
       "      <td>1</td>\n",
       "      <td>1</td>\n",
       "      <td>35.0</td>\n",
       "      <td>1</td>\n",
       "      <td>0</td>\n",
       "      <td>53.1000</td>\n",
       "      <td>0</td>\n",
       "      <td>0</td>\n",
       "      <td>1</td>\n",
       "      <td>1</td>\n",
       "      <td>0</td>\n",
       "    </tr>\n",
       "    <tr>\n",
       "      <th>4</th>\n",
       "      <td>5</td>\n",
       "      <td>0</td>\n",
       "      <td>3</td>\n",
       "      <td>35.0</td>\n",
       "      <td>0</td>\n",
       "      <td>0</td>\n",
       "      <td>8.0500</td>\n",
       "      <td>0</td>\n",
       "      <td>0</td>\n",
       "      <td>1</td>\n",
       "      <td>0</td>\n",
       "      <td>1</td>\n",
       "    </tr>\n",
       "  </tbody>\n",
       "</table>\n",
       "</div>"
      ],
      "text/plain": [
       "   PassengerId  Survived  Pclass   Age  SibSp  Parch     Fare  Embarked_C  \\\n",
       "0            1         0       3  22.0      1      0   7.2500           0   \n",
       "1            2         1       1  38.0      1      0  71.2833           1   \n",
       "2            3         1       3  26.0      0      0   7.9250           0   \n",
       "3            4         1       1  35.0      1      0  53.1000           0   \n",
       "4            5         0       3  35.0      0      0   8.0500           0   \n",
       "\n",
       "   Embarked_Q  Embarked_S  Sex_female  Sex_male  \n",
       "0           0           1           0         1  \n",
       "1           0           0           1         0  \n",
       "2           0           1           1         0  \n",
       "3           0           1           1         0  \n",
       "4           0           1           0         1  "
      ]
     },
     "execution_count": 30,
     "metadata": {},
     "output_type": "execute_result"
    }
   ],
   "source": [
    "one_hot_encode_cols = ['Embarked', 'Sex']\n",
    "train = pd.get_dummies(train, columns=one_hot_encode_cols)\n",
    "test = pd.get_dummies(test, columns=one_hot_encode_cols)\n",
    "train.head()"
   ]
  },
  {
   "cell_type": "markdown",
   "id": "74f3a46a",
   "metadata": {},
   "source": [
    "<h3>Age and fare</h3>"
   ]
  },
  {
   "cell_type": "markdown",
   "id": "3a865383",
   "metadata": {},
   "source": [
    "Scale these features using minmax scaler"
   ]
  },
  {
   "cell_type": "code",
   "execution_count": 31,
   "id": "9aaaf99b",
   "metadata": {},
   "outputs": [],
   "source": [
    "# Pop passenger id from data\n",
    "train_id = train.pop('PassengerId')\n",
    "test_id = test.pop('PassengerId')"
   ]
  },
  {
   "cell_type": "code",
   "execution_count": 32,
   "id": "a5a0bd6e",
   "metadata": {},
   "outputs": [],
   "source": [
    "y_train = train.pop('Survived')\n"
   ]
  },
  {
   "cell_type": "code",
   "execution_count": 33,
   "id": "d6dd76c0",
   "metadata": {},
   "outputs": [],
   "source": [
    "from sklearn.preprocessing import MinMaxScaler\n",
    "\n",
    "scaler = MinMaxScaler()\n",
    "X_train = scaler.fit_transform(train)\n",
    "X_test = scaler.fit_transform(test)"
   ]
  },
  {
   "cell_type": "markdown",
   "id": "c514162d",
   "metadata": {},
   "source": [
    "<h2>Model</h2>"
   ]
  },
  {
   "cell_type": "code",
   "execution_count": 39,
   "id": "b8d94de4",
   "metadata": {},
   "outputs": [],
   "source": [
    "from sklearn.metrics import precision_recall_fscore_support as score\n",
    "from sklearn.metrics import accuracy_score"
   ]
  },
  {
   "cell_type": "markdown",
   "id": "cf64e39c",
   "metadata": {},
   "source": [
    "<h3>KNN</h3>"
   ]
  },
  {
   "cell_type": "code",
   "execution_count": 38,
   "id": "bf78df76",
   "metadata": {},
   "outputs": [
    {
     "data": {
      "text/plain": [
       "precision    0.858661\n",
       "recall       0.858852\n",
       "fscore       0.858751\n",
       "accuracy     0.858852\n",
       "Name: KNN, dtype: float64"
      ]
     },
     "execution_count": 38,
     "metadata": {},
     "output_type": "execute_result"
    }
   ],
   "source": [
    "from sklearn.neighbors import KNeighborsClassifier\n",
    "\n",
    "knn = KNeighborsClassifier()\n",
    "knn.fit(X_train, y_train)\n",
    "y_pred = knn.predict(X_test)\n",
    "accuracy = accuracy_score(y_test, y_pred)\n",
    "precision, recall, fscore, _ = score(y_test, y_pred, average='weighted')\n",
    "metrics_knn = pd.Series({'precision':precision, 'recall':recall, \n",
    "                              'fscore':fscore, 'accuracy':accuracy}, name='KNN')\n",
    "metrics_knn"
   ]
  },
  {
   "cell_type": "markdown",
   "id": "cf74140c",
   "metadata": {},
   "source": [
    "<h3>Logistic Regression</h3>"
   ]
  },
  {
   "cell_type": "code",
   "execution_count": 54,
   "id": "79d53aca",
   "metadata": {},
   "outputs": [
    {
     "data": {
      "text/plain": [
       "array([[0.89408879, 0.10591121],\n",
       "       [0.57798643, 0.42201357],\n",
       "       [0.85848478, 0.14151522],\n",
       "       [0.90306021, 0.09693979],\n",
       "       [0.43357795, 0.56642205],\n",
       "       [0.87093191, 0.12906809],\n",
       "       [0.36125187, 0.63874813],\n",
       "       [0.80196974, 0.19803026],\n",
       "       [0.26120778, 0.73879222],\n",
       "       [0.91869273, 0.08130727],\n",
       "       [0.89642294, 0.10357706],\n",
       "       [0.66079612, 0.33920388],\n",
       "       [0.08565033, 0.91434967],\n",
       "       [0.90683185, 0.09316815],\n",
       "       [0.14749575, 0.85250425],\n",
       "       [0.14909594, 0.85090406],\n",
       "       [0.75614274, 0.24385726],\n",
       "       [0.83568605, 0.16431395],\n",
       "       [0.45471012, 0.54528988],\n",
       "       [0.40829906, 0.59170094],\n",
       "       [0.64090746, 0.35909254],\n",
       "       [0.86212807, 0.13787193],\n",
       "       [0.11616513, 0.88383487],\n",
       "       [0.40126125, 0.59873875],\n",
       "       [0.09588463, 0.90411537],\n",
       "       [0.95137954, 0.04862046],\n",
       "       [0.04889903, 0.95110097],\n",
       "       [0.84072386, 0.15927614],\n",
       "       [0.63156174, 0.36843826],\n",
       "       [0.88527177, 0.11472823],\n",
       "       [0.87583721, 0.12416279],\n",
       "       [0.81495063, 0.18504937],\n",
       "       [0.50995343, 0.49004657],\n",
       "       [0.45370997, 0.54629003],\n",
       "       [0.49041167, 0.50958833],\n",
       "       [0.82700586, 0.17299414],\n",
       "       [0.39319185, 0.60680815],\n",
       "       [0.37548166, 0.62451834],\n",
       "       [0.89856722, 0.10143278],\n",
       "       [0.89225022, 0.10774978],\n",
       "       [0.89175853, 0.10824147],\n",
       "       [0.63813492, 0.36186508],\n",
       "       [0.9295088 , 0.0704912 ],\n",
       "       [0.21422456, 0.78577544],\n",
       "       [0.14232912, 0.85767088],\n",
       "       [0.89869759, 0.10130241],\n",
       "       [0.54507307, 0.45492693],\n",
       "       [0.86683132, 0.13316868],\n",
       "       [0.11086582, 0.88913418],\n",
       "       [0.48513487, 0.51486513],\n",
       "       [0.56683043, 0.43316957],\n",
       "       [0.680951  , 0.319049  ],\n",
       "       [0.23893583, 0.76106417],\n",
       "       [0.12257444, 0.87742556],\n",
       "       [0.68084322, 0.31915678],\n",
       "       [0.90556424, 0.09443576],\n",
       "       [0.91912578, 0.08087422],\n",
       "       [0.89872034, 0.10127966],\n",
       "       [0.91120892, 0.08879108],\n",
       "       [0.05491896, 0.94508104],\n",
       "       [0.87918459, 0.12081541],\n",
       "       [0.79270426, 0.20729574],\n",
       "       [0.88180446, 0.11819554],\n",
       "       [0.31687861, 0.68312139],\n",
       "       [0.40537734, 0.59462266],\n",
       "       [0.20081393, 0.79918607],\n",
       "       [0.29580395, 0.70419605],\n",
       "       [0.66300363, 0.33699637],\n",
       "       [0.45887028, 0.54112972],\n",
       "       [0.190454  , 0.809546  ],\n",
       "       [0.32769176, 0.67230824],\n",
       "       [0.88931832, 0.11068168],\n",
       "       [0.42312231, 0.57687769],\n",
       "       [0.44372307, 0.55627693],\n",
       "       [0.05604361, 0.94395639],\n",
       "       [0.42702618, 0.57297382],\n",
       "       [0.89640993, 0.10359007],\n",
       "       [0.2064977 , 0.7935023 ],\n",
       "       [0.78452358, 0.21547642],\n",
       "       [0.32769176, 0.67230824],\n",
       "       [0.81271045, 0.18728955],\n",
       "       [0.76618362, 0.23381638],\n",
       "       [0.67724586, 0.32275414],\n",
       "       [0.89642294, 0.10357706],\n",
       "       [0.71808998, 0.28191002],\n",
       "       [0.8666952 , 0.1333048 ],\n",
       "       [0.34423872, 0.65576128],\n",
       "       [0.35835433, 0.64164567],\n",
       "       [0.32769176, 0.67230824],\n",
       "       [0.69204712, 0.30795288],\n",
       "       [0.42289039, 0.57710961],\n",
       "       [0.89643313, 0.10356687],\n",
       "       [0.10367896, 0.89632104],\n",
       "       [0.89640993, 0.10359007],\n",
       "       [0.4228256 , 0.5771744 ],\n",
       "       [0.89870828, 0.10129172],\n",
       "       [0.25880069, 0.74119931],\n",
       "       [0.90736707, 0.09263293],\n",
       "       [0.36986335, 0.63013665],\n",
       "       [0.91535568, 0.08464432],\n",
       "       [0.09061346, 0.90938654],\n",
       "       [0.79962583, 0.20037417],\n",
       "       [0.86683132, 0.13316868],\n",
       "       [0.90094234, 0.09905766],\n",
       "       [0.29517674, 0.70482326],\n",
       "       [0.90412039, 0.09587961],\n",
       "       [0.85801059, 0.14198941],\n",
       "       [0.86683132, 0.13316868],\n",
       "       [0.89635401, 0.10364599],\n",
       "       [0.73251307, 0.26748693],\n",
       "       [0.75117058, 0.24882942],\n",
       "       [0.32768591, 0.67231409],\n",
       "       [0.06687056, 0.93312944],\n",
       "       [0.29850331, 0.70149669],\n",
       "       [0.18182203, 0.81817797],\n",
       "       [0.84857271, 0.15142729],\n",
       "       [0.84572913, 0.15427087],\n",
       "       [0.31187378, 0.68812622],\n",
       "       [0.47913766, 0.52086234],\n",
       "       [0.23896161, 0.76103839],\n",
       "       [0.14830697, 0.85169303],\n",
       "       [0.88605593, 0.11394407],\n",
       "       [0.07541095, 0.92458905],\n",
       "       [0.90531687, 0.09468313],\n",
       "       [0.86683132, 0.13316868],\n",
       "       [0.3606811 , 0.6393189 ],\n",
       "       [0.89174149, 0.10825851],\n",
       "       [0.40684129, 0.59315871],\n",
       "       [0.83053491, 0.16946509],\n",
       "       [0.89640993, 0.10359007],\n",
       "       [0.91341694, 0.08658306],\n",
       "       [0.5938744 , 0.4061256 ],\n",
       "       [0.43020941, 0.56979059],\n",
       "       [0.86753458, 0.13246542],\n",
       "       [0.93268345, 0.06731655],\n",
       "       [0.89642645, 0.10357355],\n",
       "       [0.85354622, 0.14645378],\n",
       "       [0.7673056 , 0.2326944 ],\n",
       "       [0.38729865, 0.61270135],\n",
       "       [0.95025778, 0.04974222],\n",
       "       [0.53933036, 0.46066964],\n",
       "       [0.08618945, 0.91381055],\n",
       "       [0.66150862, 0.33849138],\n",
       "       [0.77397245, 0.22602755],\n",
       "       [0.63813492, 0.36186508],\n",
       "       [0.94561845, 0.05438155],\n",
       "       [0.63280692, 0.36719308],\n",
       "       [0.89171919, 0.10828081],\n",
       "       [0.63813492, 0.36186508],\n",
       "       [0.81764054, 0.18235946],\n",
       "       [0.04915647, 0.95084353],\n",
       "       [0.84555616, 0.15444384],\n",
       "       [0.95530091, 0.04469909],\n",
       "       [0.48597848, 0.51402152],\n",
       "       [0.93462889, 0.06537111],\n",
       "       [0.89645211, 0.10354789],\n",
       "       [0.07419569, 0.92580431],\n",
       "       [0.38734087, 0.61265913],\n",
       "       [0.63813492, 0.36186508],\n",
       "       [0.42428385, 0.57571615],\n",
       "       [0.3276951 , 0.6723049 ],\n",
       "       [0.81645105, 0.18354895],\n",
       "       [0.19794841, 0.80205159],\n",
       "       [0.89649849, 0.10350151],\n",
       "       [0.82702052, 0.17297948],\n",
       "       [0.45585273, 0.54414727],\n",
       "       [0.55877353, 0.44122647],\n",
       "       [0.91875109, 0.08124891],\n",
       "       [0.07701667, 0.92298333],\n",
       "       [0.38124264, 0.61875736],\n",
       "       [0.89645211, 0.10354789],\n",
       "       [0.85508742, 0.14491258],\n",
       "       [0.90934955, 0.09065045],\n",
       "       [0.84563524, 0.15436476],\n",
       "       [0.94891309, 0.05108691],\n",
       "       [0.16653351, 0.83346649],\n",
       "       [0.17237439, 0.82762561],\n",
       "       [0.63602097, 0.36397903],\n",
       "       [0.25958733, 0.74041267],\n",
       "       [0.12957419, 0.87042581],\n",
       "       [0.78452358, 0.21547642],\n",
       "       [0.53845036, 0.46154964],\n",
       "       [0.07832907, 0.92167093],\n",
       "       [0.86683132, 0.13316868],\n",
       "       [0.0554733 , 0.9445267 ],\n",
       "       [0.82305208, 0.17694792],\n",
       "       [0.18427803, 0.81572197],\n",
       "       [0.91215852, 0.08784148],\n",
       "       [0.73445223, 0.26554777],\n",
       "       [0.82344874, 0.17655126],\n",
       "       [0.82596887, 0.17403113],\n",
       "       [0.63825032, 0.36174968],\n",
       "       [0.88720908, 0.11279092],\n",
       "       [0.85514971, 0.14485029],\n",
       "       [0.69296449, 0.30703551],\n",
       "       [0.91536947, 0.08463053],\n",
       "       [0.31088892, 0.68911108],\n",
       "       [0.35841179, 0.64158821],\n",
       "       [0.75419851, 0.24580149],\n",
       "       [0.3931783 , 0.6068217 ],\n",
       "       [0.32614217, 0.67385783],\n",
       "       [0.90348477, 0.09651523],\n",
       "       [0.55685368, 0.44314632],\n",
       "       [0.16297036, 0.83702964],\n",
       "       [0.76326508, 0.23673492],\n",
       "       [0.52749234, 0.47250766],\n",
       "       [0.39026174, 0.60973826],\n",
       "       [0.75876085, 0.24123915],\n",
       "       [0.06259161, 0.93740839],\n",
       "       [0.8987    , 0.1013    ],\n",
       "       [0.91237104, 0.08762896],\n",
       "       [0.89649427, 0.10350573],\n",
       "       [0.71408064, 0.28591936],\n",
       "       [0.40356814, 0.59643186],\n",
       "       [0.67013951, 0.32986049],\n",
       "       [0.63478148, 0.36521852],\n",
       "       [0.32766589, 0.67233411],\n",
       "       [0.73752066, 0.26247934],\n",
       "       [0.09687655, 0.90312345],\n",
       "       [0.89640993, 0.10359007],\n",
       "       [0.1707227 , 0.8292773 ],\n",
       "       [0.88930453, 0.11069547],\n",
       "       [0.18309668, 0.81690332],\n",
       "       [0.88932727, 0.11067273],\n",
       "       [0.09877521, 0.90122479],\n",
       "       [0.30703582, 0.69296418],\n",
       "       [0.89410932, 0.10589068],\n",
       "       [0.32769176, 0.67230824],\n",
       "       [0.9282556 , 0.0717444 ],\n",
       "       [0.80858223, 0.19141777],\n",
       "       [0.70029653, 0.29970347],\n",
       "       [0.07278407, 0.92721593],\n",
       "       [0.90575863, 0.09424137],\n",
       "       [0.86681777, 0.13318223],\n",
       "       [0.54295463, 0.45704537],\n",
       "       [0.88686071, 0.11313929],\n",
       "       [0.68735895, 0.31264105],\n",
       "       [0.83225691, 0.16774309],\n",
       "       [0.20152126, 0.79847874],\n",
       "       [0.09720599, 0.90279401],\n",
       "       [0.1032499 , 0.8967501 ],\n",
       "       [0.29750147, 0.70249853],\n",
       "       [0.57580721, 0.42419279],\n",
       "       [0.89642364, 0.10357636],\n",
       "       [0.91729731, 0.08270269],\n",
       "       [0.66760121, 0.33239879],\n",
       "       [0.18167391, 0.81832609],\n",
       "       [0.8571398 , 0.1428602 ],\n",
       "       [0.23896161, 0.76103839],\n",
       "       [0.32743214, 0.67256786],\n",
       "       [0.24506061, 0.75493939],\n",
       "       [0.88685426, 0.11314574],\n",
       "       [0.45401305, 0.54598695],\n",
       "       [0.89630229, 0.10369771],\n",
       "       [0.91428809, 0.08571191],\n",
       "       [0.89645211, 0.10354789],\n",
       "       [0.86683132, 0.13316868],\n",
       "       [0.90525454, 0.09474546],\n",
       "       [0.17192041, 0.82807959],\n",
       "       [0.88932913, 0.11067087],\n",
       "       [0.9331981 , 0.0668019 ],\n",
       "       [0.88932205, 0.11067795],\n",
       "       [0.22285125, 0.77714875],\n",
       "       [0.31275526, 0.68724474],\n",
       "       [0.69731219, 0.30268781],\n",
       "       [0.89642294, 0.10357706],\n",
       "       [0.64368712, 0.35631288],\n",
       "       [0.89645211, 0.10354789],\n",
       "       [0.39319185, 0.60680815],\n",
       "       [0.87911057, 0.12088943],\n",
       "       [0.54094984, 0.45905016],\n",
       "       [0.86683132, 0.13316868],\n",
       "       [0.05726439, 0.94273561],\n",
       "       [0.36636542, 0.63363458],\n",
       "       [0.84563574, 0.15436426],\n",
       "       [0.20080362, 0.79919638],\n",
       "       [0.77642686, 0.22357314],\n",
       "       [0.84630658, 0.15369342],\n",
       "       [0.8119606 , 0.1880394 ],\n",
       "       [0.74957837, 0.25042163],\n",
       "       [0.38716659, 0.61283341],\n",
       "       [0.91472833, 0.08527167],\n",
       "       [0.32769176, 0.67230824],\n",
       "       [0.25925337, 0.74074663],\n",
       "       [0.3165226 , 0.6834774 ],\n",
       "       [0.92099046, 0.07900954],\n",
       "       [0.89647741, 0.10352259],\n",
       "       [0.56185596, 0.43814404],\n",
       "       [0.84563524, 0.15436476],\n",
       "       [0.89640993, 0.10359007],\n",
       "       [0.63539218, 0.36460782],\n",
       "       [0.36139429, 0.63860571],\n",
       "       [0.84563524, 0.15436476],\n",
       "       [0.732919  , 0.267081  ],\n",
       "       [0.92084156, 0.07915844],\n",
       "       [0.90093254, 0.09906746],\n",
       "       [0.09625387, 0.90374613],\n",
       "       [0.88527177, 0.11472823],\n",
       "       [0.56288058, 0.43711942],\n",
       "       [0.90737247, 0.09262753],\n",
       "       [0.9134367 , 0.0865633 ],\n",
       "       [0.68094853, 0.31905147],\n",
       "       [0.83877021, 0.16122979],\n",
       "       [0.89635823, 0.10364177],\n",
       "       [0.32769176, 0.67230824],\n",
       "       [0.22102561, 0.77897439],\n",
       "       [0.60317526, 0.39682474],\n",
       "       [0.90015618, 0.09984382],\n",
       "       [0.74047478, 0.25952522],\n",
       "       [0.56427264, 0.43572736],\n",
       "       [0.88171801, 0.11828199],\n",
       "       [0.83905865, 0.16094135],\n",
       "       [0.89645   , 0.10355   ],\n",
       "       [0.40211047, 0.59788953],\n",
       "       [0.09451758, 0.90548242],\n",
       "       [0.29069855, 0.70930145],\n",
       "       [0.63405988, 0.36594012],\n",
       "       [0.73537472, 0.26462528],\n",
       "       [0.90312449, 0.09687551],\n",
       "       [0.80736394, 0.19263606],\n",
       "       [0.90094234, 0.09905766],\n",
       "       [0.84884057, 0.15115943],\n",
       "       [0.7673056 , 0.2326944 ],\n",
       "       [0.58525405, 0.41474595],\n",
       "       [0.09390983, 0.90609017],\n",
       "       [0.89417346, 0.10582654],\n",
       "       [0.20242711, 0.79757289],\n",
       "       [0.54005654, 0.45994346],\n",
       "       [0.80744458, 0.19255542],\n",
       "       [0.74446885, 0.25553115],\n",
       "       [0.3119415 , 0.6880585 ],\n",
       "       [0.50804533, 0.49195467],\n",
       "       [0.84563574, 0.15436426],\n",
       "       [0.30946141, 0.69053859],\n",
       "       [0.90312119, 0.09687881],\n",
       "       [0.56723533, 0.43276467],\n",
       "       [0.79277891, 0.20722109],\n",
       "       [0.89628756, 0.10371244],\n",
       "       [0.7597998 , 0.2402002 ],\n",
       "       [0.84563524, 0.15436476],\n",
       "       [0.73052718, 0.26947282],\n",
       "       [0.91345077, 0.08654923],\n",
       "       [0.93459974, 0.06540026],\n",
       "       [0.0768817 , 0.9231183 ],\n",
       "       [0.91467693, 0.08532307],\n",
       "       [0.34712891, 0.65287109],\n",
       "       [0.7673056 , 0.2326944 ],\n",
       "       [0.36717143, 0.63282857],\n",
       "       [0.75826152, 0.24173848],\n",
       "       [0.21718462, 0.78281538],\n",
       "       [0.08321186, 0.91678814],\n",
       "       [0.76326508, 0.23673492],\n",
       "       [0.71911027, 0.28088973],\n",
       "       [0.87844155, 0.12155845],\n",
       "       [0.45435755, 0.54564245],\n",
       "       [0.68263548, 0.31736452],\n",
       "       [0.21916721, 0.78083279],\n",
       "       [0.89642434, 0.10357566],\n",
       "       [0.86683132, 0.13316868],\n",
       "       [0.47145942, 0.52854058],\n",
       "       [0.96687945, 0.03312055],\n",
       "       [0.15342865, 0.84657135],\n",
       "       [0.21718462, 0.78281538],\n",
       "       [0.90306021, 0.09693979],\n",
       "       [0.05997581, 0.94002419],\n",
       "       [0.51692374, 0.48307626],\n",
       "       [0.86669477, 0.13330523],\n",
       "       [0.37467884, 0.62532116],\n",
       "       [0.08348666, 0.91651334],\n",
       "       [0.69184229, 0.30815771],\n",
       "       [0.77704603, 0.22295397],\n",
       "       [0.05452398, 0.94547602],\n",
       "       [0.68238823, 0.31761177],\n",
       "       [0.83739283, 0.16260717],\n",
       "       [0.17398819, 0.82601181],\n",
       "       [0.06770346, 0.93229654],\n",
       "       [0.46796508, 0.53203492],\n",
       "       [0.74472806, 0.25527194],\n",
       "       [0.70431569, 0.29568431],\n",
       "       [0.92143003, 0.07856997],\n",
       "       [0.86683132, 0.13316868],\n",
       "       [0.87243292, 0.12756708],\n",
       "       [0.39179435, 0.60820565],\n",
       "       [0.40438725, 0.59561275],\n",
       "       [0.77171831, 0.22828169],\n",
       "       [0.22560797, 0.77439203],\n",
       "       [0.89643313, 0.10356687],\n",
       "       [0.87663252, 0.12336748],\n",
       "       [0.85801843, 0.14198157],\n",
       "       [0.90687346, 0.09312654],\n",
       "       [0.50896888, 0.49103112],\n",
       "       [0.14539503, 0.85460497],\n",
       "       [0.87640425, 0.12359575],\n",
       "       [0.84755181, 0.15244819],\n",
       "       [0.94504977, 0.05495023],\n",
       "       [0.07787762, 0.92212238],\n",
       "       [0.86688376, 0.13311624],\n",
       "       [0.10323949, 0.89676051],\n",
       "       [0.89174332, 0.10825668],\n",
       "       [0.88560447, 0.11439553],\n",
       "       [0.07962336, 0.92037664],\n",
       "       [0.8403631 , 0.1596369 ],\n",
       "       [0.04900814, 0.95099186],\n",
       "       [0.48236802, 0.51763198],\n",
       "       [0.57710324, 0.42289676],\n",
       "       [0.64241102, 0.35758898],\n",
       "       [0.78566258, 0.21433742],\n",
       "       [0.58890718, 0.41109282],\n",
       "       [0.3276976 , 0.6723024 ],\n",
       "       [0.32318286, 0.67681714],\n",
       "       [0.32769176, 0.67230824],\n",
       "       [0.09003257, 0.90996743],\n",
       "       [0.41712199, 0.58287801],\n",
       "       [0.89640993, 0.10359007],\n",
       "       [0.06712879, 0.93287121],\n",
       "       [0.9253801 , 0.0746199 ],\n",
       "       [0.89640993, 0.10359007],\n",
       "       [0.8706877 , 0.1293123 ]])"
      ]
     },
     "execution_count": 54,
     "metadata": {},
     "output_type": "execute_result"
    }
   ],
   "source": [
    "from sklearn.linear_model import LogisticRegression\n",
    "\n",
    "lr = LogisticRegression()\n",
    "lr.fit(X_train, y_train)\n",
    "y_pred = lr.predict(X_test)\n",
    "accuracy = accuracy_score(y_test, y_pred)\n",
    "precision, recall, fscore, _ = score(y_test, y_pred, average='weighted')\n",
    "metrics_lr = pd.Series({'precision':precision, 'recall':recall, \n",
    "                              'fscore':fscore, 'accuracy':accuracy}, name='LR')\n",
    "metrics_lr\n",
    "\n",
    "# Save y_pred for later, calculate probability of each output\n",
    "y_pred_lr = y_pred\n",
    "proba = lr.predict_proba(X_test)\n",
    "proba"
   ]
  },
  {
   "cell_type": "markdown",
   "id": "2dff8a7a",
   "metadata": {},
   "source": [
    "<h3>SGD</h3>"
   ]
  },
  {
   "cell_type": "code",
   "execution_count": 46,
   "id": "230d55dd",
   "metadata": {},
   "outputs": [
    {
     "data": {
      "text/plain": [
       "precision    0.915013\n",
       "recall       0.901914\n",
       "fscore       0.897778\n",
       "accuracy     0.901914\n",
       "Name: SGD, dtype: float64"
      ]
     },
     "execution_count": 46,
     "metadata": {},
     "output_type": "execute_result"
    }
   ],
   "source": [
    "from sklearn.linear_model import SGDClassifier\n",
    "\n",
    "sgd = SGDClassifier()\n",
    "sgd.fit(X_train, y_train)\n",
    "y_pred = svc.predict(X_test)\n",
    "accuracy = accuracy_score(y_test, y_pred)\n",
    "precision, recall, fscore, _ = score(y_test, y_pred, average='weighted')\n",
    "metrics_sgd = pd.Series({'precision':precision, 'recall':recall, \n",
    "                              'fscore':fscore, 'accuracy':accuracy}, name='SGD')\n",
    "metrics_sgd"
   ]
  },
  {
   "cell_type": "markdown",
   "id": "15ffed4f",
   "metadata": {},
   "source": [
    "<h3>SVM</h3>"
   ]
  },
  {
   "cell_type": "code",
   "execution_count": 36,
   "id": "09b5f218",
   "metadata": {},
   "outputs": [
    {
     "data": {
      "text/plain": [
       "precision    0.915013\n",
       "recall       0.901914\n",
       "fscore       0.897778\n",
       "accuracy     0.901914\n",
       "Name: SVM, dtype: float64"
      ]
     },
     "execution_count": 36,
     "metadata": {},
     "output_type": "execute_result"
    }
   ],
   "source": [
    "from sklearn.svm import SVC\n",
    "\n",
    "svc = SVC()\n",
    "svc.fit(X_train, y_train)\n",
    "y_pred = svc.predict(X_test)\n",
    "accuracy = accuracy_score(y_test, y_pred)\n",
    "precision, recall, fscore, _ = score(y_test, y_pred, average='weighted')\n",
    "metrics_svc = pd.Series({'precision':precision, 'recall':recall, \n",
    "                              'fscore':fscore, 'accuracy':accuracy}, name='SVM')\n",
    "metrics_svc"
   ]
  },
  {
   "cell_type": "markdown",
   "id": "235c3f5a",
   "metadata": {},
   "source": [
    "<h3>Decision tree</h3>"
   ]
  },
  {
   "cell_type": "code",
   "execution_count": 44,
   "id": "df6d87a8",
   "metadata": {},
   "outputs": [
    {
     "data": {
      "text/plain": [
       "precision    0.800204\n",
       "recall       0.801435\n",
       "fscore       0.800700\n",
       "accuracy     0.801435\n",
       "Name: DT, dtype: float64"
      ]
     },
     "execution_count": 44,
     "metadata": {},
     "output_type": "execute_result"
    }
   ],
   "source": [
    "from sklearn.tree import DecisionTreeClassifier\n",
    "\n",
    "dt = DecisionTreeClassifier()\n",
    "dt.fit(X_train, y_train)\n",
    "y_pred = dt.predict(X_test)\n",
    "accuracy = accuracy_score(y_test, y_pred)\n",
    "precision, recall, fscore, _ = score(y_test, y_pred, average='weighted')\n",
    "metrics_dt = pd.Series({'precision':precision, 'recall':recall, \n",
    "                              'fscore':fscore, 'accuracy':accuracy}, name='DT')\n",
    "metrics_dt"
   ]
  },
  {
   "cell_type": "markdown",
   "id": "3edc8740",
   "metadata": {},
   "source": [
    "<h3>Random forest</h3>"
   ]
  },
  {
   "cell_type": "code",
   "execution_count": 45,
   "id": "60248d3e",
   "metadata": {},
   "outputs": [
    {
     "data": {
      "text/plain": [
       "precision    0.848718\n",
       "recall       0.849282\n",
       "fscore       0.848954\n",
       "accuracy     0.849282\n",
       "Name: RF, dtype: float64"
      ]
     },
     "execution_count": 45,
     "metadata": {},
     "output_type": "execute_result"
    }
   ],
   "source": [
    "from sklearn.ensemble import RandomForestClassifier\n",
    "\n",
    "rf = RandomForestClassifier()\n",
    "rf.fit(X_train, y_train)\n",
    "y_pred = rf.predict(X_test)\n",
    "accuracy = accuracy_score(y_test, y_pred)\n",
    "precision, recall, fscore, _ = score(y_test, y_pred, average='weighted')\n",
    "metrics_rf = pd.Series({'precision':precision, 'recall':recall, \n",
    "                              'fscore':fscore, 'accuracy':accuracy}, name='RF')\n",
    "metrics_rf"
   ]
  },
  {
   "cell_type": "code",
   "execution_count": 50,
   "id": "cf760028",
   "metadata": {},
   "outputs": [
    {
     "data": {
      "text/html": [
       "<div>\n",
       "<style scoped>\n",
       "    .dataframe tbody tr th:only-of-type {\n",
       "        vertical-align: middle;\n",
       "    }\n",
       "\n",
       "    .dataframe tbody tr th {\n",
       "        vertical-align: top;\n",
       "    }\n",
       "\n",
       "    .dataframe thead th {\n",
       "        text-align: right;\n",
       "    }\n",
       "</style>\n",
       "<table border=\"1\" class=\"dataframe\">\n",
       "  <thead>\n",
       "    <tr style=\"text-align: right;\">\n",
       "      <th></th>\n",
       "      <th>KNN</th>\n",
       "      <th>LR</th>\n",
       "      <th>SGD</th>\n",
       "      <th>SVM</th>\n",
       "      <th>DT</th>\n",
       "      <th>RF</th>\n",
       "    </tr>\n",
       "  </thead>\n",
       "  <tbody>\n",
       "    <tr>\n",
       "      <th>precision</th>\n",
       "      <td>0.858661</td>\n",
       "      <td>0.957357</td>\n",
       "      <td>0.915013</td>\n",
       "      <td>0.915013</td>\n",
       "      <td>0.800204</td>\n",
       "      <td>0.848718</td>\n",
       "    </tr>\n",
       "    <tr>\n",
       "      <th>recall</th>\n",
       "      <td>0.858852</td>\n",
       "      <td>0.956938</td>\n",
       "      <td>0.901914</td>\n",
       "      <td>0.901914</td>\n",
       "      <td>0.801435</td>\n",
       "      <td>0.849282</td>\n",
       "    </tr>\n",
       "    <tr>\n",
       "      <th>fscore</th>\n",
       "      <td>0.858751</td>\n",
       "      <td>0.957054</td>\n",
       "      <td>0.897778</td>\n",
       "      <td>0.897778</td>\n",
       "      <td>0.800700</td>\n",
       "      <td>0.848954</td>\n",
       "    </tr>\n",
       "    <tr>\n",
       "      <th>accuracy</th>\n",
       "      <td>0.858852</td>\n",
       "      <td>0.956938</td>\n",
       "      <td>0.901914</td>\n",
       "      <td>0.901914</td>\n",
       "      <td>0.801435</td>\n",
       "      <td>0.849282</td>\n",
       "    </tr>\n",
       "  </tbody>\n",
       "</table>\n",
       "</div>"
      ],
      "text/plain": [
       "                KNN        LR       SGD       SVM        DT        RF\n",
       "precision  0.858661  0.957357  0.915013  0.915013  0.800204  0.848718\n",
       "recall     0.858852  0.956938  0.901914  0.901914  0.801435  0.849282\n",
       "fscore     0.858751  0.957054  0.897778  0.897778  0.800700  0.848954\n",
       "accuracy   0.858852  0.956938  0.901914  0.901914  0.801435  0.849282"
      ]
     },
     "execution_count": 50,
     "metadata": {},
     "output_type": "execute_result"
    }
   ],
   "source": [
    "metrics = pd.concat([metrics_knn, metrics_lr, metrics_sgd, metrics_svc, metrics_dt, metrics_rf], axis=1)\n",
    "metrics"
   ]
  },
  {
   "cell_type": "markdown",
   "id": "3351b3d5",
   "metadata": {},
   "source": [
    "Most accurate model in this case is Logistic Regression"
   ]
  },
  {
   "cell_type": "markdown",
   "id": "337fd11a",
   "metadata": {},
   "source": [
    "<h3>Answer for the question</h3>"
   ]
  },
  {
   "cell_type": "markdown",
   "id": "ab42e728",
   "metadata": {},
   "source": [
    "Answer for the question, what is every passenger's probability of survival, according to Logistic Regression model"
   ]
  },
  {
   "cell_type": "code",
   "execution_count": 60,
   "id": "e4d7b86a",
   "metadata": {},
   "outputs": [
    {
     "data": {
      "text/html": [
       "<div>\n",
       "<style scoped>\n",
       "    .dataframe tbody tr th:only-of-type {\n",
       "        vertical-align: middle;\n",
       "    }\n",
       "\n",
       "    .dataframe tbody tr th {\n",
       "        vertical-align: top;\n",
       "    }\n",
       "\n",
       "    .dataframe thead th {\n",
       "        text-align: right;\n",
       "    }\n",
       "</style>\n",
       "<table border=\"1\" class=\"dataframe\">\n",
       "  <thead>\n",
       "    <tr style=\"text-align: right;\">\n",
       "      <th></th>\n",
       "      <th>Probability of survival</th>\n",
       "    </tr>\n",
       "    <tr>\n",
       "      <th>PassengerId</th>\n",
       "      <th></th>\n",
       "    </tr>\n",
       "  </thead>\n",
       "  <tbody>\n",
       "    <tr>\n",
       "      <th>892</th>\n",
       "      <td>0.894089</td>\n",
       "    </tr>\n",
       "    <tr>\n",
       "      <th>893</th>\n",
       "      <td>0.577986</td>\n",
       "    </tr>\n",
       "    <tr>\n",
       "      <th>894</th>\n",
       "      <td>0.858485</td>\n",
       "    </tr>\n",
       "    <tr>\n",
       "      <th>895</th>\n",
       "      <td>0.903060</td>\n",
       "    </tr>\n",
       "    <tr>\n",
       "      <th>896</th>\n",
       "      <td>0.433578</td>\n",
       "    </tr>\n",
       "    <tr>\n",
       "      <th>...</th>\n",
       "      <td>...</td>\n",
       "    </tr>\n",
       "    <tr>\n",
       "      <th>1305</th>\n",
       "      <td>0.896410</td>\n",
       "    </tr>\n",
       "    <tr>\n",
       "      <th>1306</th>\n",
       "      <td>0.067129</td>\n",
       "    </tr>\n",
       "    <tr>\n",
       "      <th>1307</th>\n",
       "      <td>0.925380</td>\n",
       "    </tr>\n",
       "    <tr>\n",
       "      <th>1308</th>\n",
       "      <td>0.896410</td>\n",
       "    </tr>\n",
       "    <tr>\n",
       "      <th>1309</th>\n",
       "      <td>0.870688</td>\n",
       "    </tr>\n",
       "  </tbody>\n",
       "</table>\n",
       "<p>418 rows × 1 columns</p>\n",
       "</div>"
      ],
      "text/plain": [
       "             Probability of survival\n",
       "PassengerId                         \n",
       "892                         0.894089\n",
       "893                         0.577986\n",
       "894                         0.858485\n",
       "895                         0.903060\n",
       "896                         0.433578\n",
       "...                              ...\n",
       "1305                        0.896410\n",
       "1306                        0.067129\n",
       "1307                        0.925380\n",
       "1308                        0.896410\n",
       "1309                        0.870688\n",
       "\n",
       "[418 rows x 1 columns]"
      ]
     },
     "execution_count": 60,
     "metadata": {},
     "output_type": "execute_result"
    }
   ],
   "source": [
    "proba.T[0]\n",
    "submission = pd.DataFrame(data = proba.T[0], index = test_id, columns=['Probability of survival'])\n",
    "submission"
   ]
  },
  {
   "cell_type": "code",
   "execution_count": null,
   "id": "130ea4fb",
   "metadata": {},
   "outputs": [],
   "source": []
  }
 ],
 "metadata": {
  "kernelspec": {
   "display_name": "Python 3 (ipykernel)",
   "language": "python",
   "name": "python3"
  },
  "language_info": {
   "codemirror_mode": {
    "name": "ipython",
    "version": 3
   },
   "file_extension": ".py",
   "mimetype": "text/x-python",
   "name": "python",
   "nbconvert_exporter": "python",
   "pygments_lexer": "ipython3",
   "version": "3.9.7"
  }
 },
 "nbformat": 4,
 "nbformat_minor": 5
}
